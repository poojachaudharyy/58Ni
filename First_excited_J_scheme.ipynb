{
  "nbformat": 4,
  "nbformat_minor": 0,
  "metadata": {
    "colab": {
      "provenance": []
    },
    "kernelspec": {
      "name": "python3",
      "display_name": "Python 3"
    },
    "language_info": {
      "name": "python"
    }
  },
  "cells": [
    {
      "cell_type": "code",
      "execution_count": 42,
      "metadata": {
        "colab": {
          "base_uri": "https://localhost:8080/"
        },
        "id": "yUpd-8VWjV5n",
        "outputId": "c5529681-793a-458f-ba68-c8b19a64bca2"
      },
      "outputs": [
        {
          "output_type": "stream",
          "name": "stdout",
          "text": [
            "Requirement already satisfied: qiskit in /usr/local/lib/python3.11/dist-packages (2.0.0)\n",
            "Requirement already satisfied: rustworkx>=0.15.0 in /usr/local/lib/python3.11/dist-packages (from qiskit) (0.16.0)\n",
            "Requirement already satisfied: numpy<3,>=1.17 in /usr/local/lib/python3.11/dist-packages (from qiskit) (2.0.2)\n",
            "Requirement already satisfied: scipy>=1.5 in /usr/local/lib/python3.11/dist-packages (from qiskit) (1.15.3)\n",
            "Requirement already satisfied: sympy>=1.3 in /usr/local/lib/python3.11/dist-packages (from qiskit) (1.13.1)\n",
            "Requirement already satisfied: dill>=0.3 in /usr/local/lib/python3.11/dist-packages (from qiskit) (0.3.7)\n",
            "Requirement already satisfied: python-dateutil>=2.8.0 in /usr/local/lib/python3.11/dist-packages (from qiskit) (2.9.0.post0)\n",
            "Requirement already satisfied: stevedore>=3.0.0 in /usr/local/lib/python3.11/dist-packages (from qiskit) (5.4.1)\n",
            "Requirement already satisfied: typing-extensions in /usr/local/lib/python3.11/dist-packages (from qiskit) (4.13.2)\n",
            "Requirement already satisfied: symengine<0.14,>=0.11 in /usr/local/lib/python3.11/dist-packages (from qiskit) (0.13.0)\n",
            "Requirement already satisfied: six>=1.5 in /usr/local/lib/python3.11/dist-packages (from python-dateutil>=2.8.0->qiskit) (1.17.0)\n",
            "Requirement already satisfied: pbr>=2.0.0 in /usr/local/lib/python3.11/dist-packages (from stevedore>=3.0.0->qiskit) (6.1.1)\n",
            "Requirement already satisfied: mpmath<1.4,>=1.1.0 in /usr/local/lib/python3.11/dist-packages (from sympy>=1.3->qiskit) (1.3.0)\n",
            "Requirement already satisfied: setuptools in /usr/local/lib/python3.11/dist-packages (from pbr>=2.0.0->stevedore>=3.0.0->qiskit) (75.2.0)\n",
            "Requirement already satisfied: qiskit-ibm-runtime in /usr/local/lib/python3.11/dist-packages (0.39.0)\n",
            "Requirement already satisfied: requests>=2.19 in /usr/local/lib/python3.11/dist-packages (from qiskit-ibm-runtime) (2.32.3)\n",
            "Requirement already satisfied: requests-ntlm>=1.1.0 in /usr/local/lib/python3.11/dist-packages (from qiskit-ibm-runtime) (1.3.0)\n",
            "Requirement already satisfied: numpy>=1.13 in /usr/local/lib/python3.11/dist-packages (from qiskit-ibm-runtime) (2.0.2)\n",
            "Requirement already satisfied: urllib3>=1.21.1 in /usr/local/lib/python3.11/dist-packages (from qiskit-ibm-runtime) (2.4.0)\n",
            "Requirement already satisfied: python-dateutil>=2.8.0 in /usr/local/lib/python3.11/dist-packages (from qiskit-ibm-runtime) (2.9.0.post0)\n",
            "Requirement already satisfied: ibm-platform-services>=0.22.6 in /usr/local/lib/python3.11/dist-packages (from qiskit-ibm-runtime) (0.65.0)\n",
            "Requirement already satisfied: pydantic>=2.5.0 in /usr/local/lib/python3.11/dist-packages (from qiskit-ibm-runtime) (2.11.4)\n",
            "Requirement already satisfied: qiskit>=1.4.1 in /usr/local/lib/python3.11/dist-packages (from qiskit-ibm-runtime) (2.0.0)\n",
            "Requirement already satisfied: packaging in /usr/local/lib/python3.11/dist-packages (from qiskit-ibm-runtime) (24.2)\n",
            "Requirement already satisfied: ibm_cloud_sdk_core<4.0.0,>=3.22.1 in /usr/local/lib/python3.11/dist-packages (from ibm-platform-services>=0.22.6->qiskit-ibm-runtime) (3.23.0)\n",
            "Requirement already satisfied: annotated-types>=0.6.0 in /usr/local/lib/python3.11/dist-packages (from pydantic>=2.5.0->qiskit-ibm-runtime) (0.7.0)\n",
            "Requirement already satisfied: pydantic-core==2.33.2 in /usr/local/lib/python3.11/dist-packages (from pydantic>=2.5.0->qiskit-ibm-runtime) (2.33.2)\n",
            "Requirement already satisfied: typing-extensions>=4.12.2 in /usr/local/lib/python3.11/dist-packages (from pydantic>=2.5.0->qiskit-ibm-runtime) (4.13.2)\n",
            "Requirement already satisfied: typing-inspection>=0.4.0 in /usr/local/lib/python3.11/dist-packages (from pydantic>=2.5.0->qiskit-ibm-runtime) (0.4.0)\n",
            "Requirement already satisfied: six>=1.5 in /usr/local/lib/python3.11/dist-packages (from python-dateutil>=2.8.0->qiskit-ibm-runtime) (1.17.0)\n",
            "Requirement already satisfied: rustworkx>=0.15.0 in /usr/local/lib/python3.11/dist-packages (from qiskit>=1.4.1->qiskit-ibm-runtime) (0.16.0)\n",
            "Requirement already satisfied: scipy>=1.5 in /usr/local/lib/python3.11/dist-packages (from qiskit>=1.4.1->qiskit-ibm-runtime) (1.15.3)\n",
            "Requirement already satisfied: sympy>=1.3 in /usr/local/lib/python3.11/dist-packages (from qiskit>=1.4.1->qiskit-ibm-runtime) (1.13.1)\n",
            "Requirement already satisfied: dill>=0.3 in /usr/local/lib/python3.11/dist-packages (from qiskit>=1.4.1->qiskit-ibm-runtime) (0.3.7)\n",
            "Requirement already satisfied: stevedore>=3.0.0 in /usr/local/lib/python3.11/dist-packages (from qiskit>=1.4.1->qiskit-ibm-runtime) (5.4.1)\n",
            "Requirement already satisfied: symengine<0.14,>=0.11 in /usr/local/lib/python3.11/dist-packages (from qiskit>=1.4.1->qiskit-ibm-runtime) (0.13.0)\n",
            "Requirement already satisfied: charset-normalizer<4,>=2 in /usr/local/lib/python3.11/dist-packages (from requests>=2.19->qiskit-ibm-runtime) (3.4.2)\n",
            "Requirement already satisfied: idna<4,>=2.5 in /usr/local/lib/python3.11/dist-packages (from requests>=2.19->qiskit-ibm-runtime) (3.10)\n",
            "Requirement already satisfied: certifi>=2017.4.17 in /usr/local/lib/python3.11/dist-packages (from requests>=2.19->qiskit-ibm-runtime) (2025.4.26)\n",
            "Requirement already satisfied: cryptography>=1.3 in /usr/local/lib/python3.11/dist-packages (from requests-ntlm>=1.1.0->qiskit-ibm-runtime) (43.0.3)\n",
            "Requirement already satisfied: pyspnego>=0.4.0 in /usr/local/lib/python3.11/dist-packages (from requests-ntlm>=1.1.0->qiskit-ibm-runtime) (0.11.2)\n",
            "Requirement already satisfied: cffi>=1.12 in /usr/local/lib/python3.11/dist-packages (from cryptography>=1.3->requests-ntlm>=1.1.0->qiskit-ibm-runtime) (1.17.1)\n",
            "Requirement already satisfied: PyJWT<3.0.0,>=2.8.0 in /usr/local/lib/python3.11/dist-packages (from ibm_cloud_sdk_core<4.0.0,>=3.22.1->ibm-platform-services>=0.22.6->qiskit-ibm-runtime) (2.10.1)\n",
            "Requirement already satisfied: pbr>=2.0.0 in /usr/local/lib/python3.11/dist-packages (from stevedore>=3.0.0->qiskit>=1.4.1->qiskit-ibm-runtime) (6.1.1)\n",
            "Requirement already satisfied: mpmath<1.4,>=1.1.0 in /usr/local/lib/python3.11/dist-packages (from sympy>=1.3->qiskit>=1.4.1->qiskit-ibm-runtime) (1.3.0)\n",
            "Requirement already satisfied: pycparser in /usr/local/lib/python3.11/dist-packages (from cffi>=1.12->cryptography>=1.3->requests-ntlm>=1.1.0->qiskit-ibm-runtime) (2.22)\n",
            "Requirement already satisfied: setuptools in /usr/local/lib/python3.11/dist-packages (from pbr>=2.0.0->stevedore>=3.0.0->qiskit>=1.4.1->qiskit-ibm-runtime) (75.2.0)\n",
            "Requirement already satisfied: qiskit-aer in /usr/local/lib/python3.11/dist-packages (0.17.0)\n",
            "Requirement already satisfied: qiskit>=1.1.0 in /usr/local/lib/python3.11/dist-packages (from qiskit-aer) (2.0.0)\n",
            "Requirement already satisfied: numpy>=1.16.3 in /usr/local/lib/python3.11/dist-packages (from qiskit-aer) (2.0.2)\n",
            "Requirement already satisfied: scipy>=1.0 in /usr/local/lib/python3.11/dist-packages (from qiskit-aer) (1.15.3)\n",
            "Requirement already satisfied: psutil>=5 in /usr/local/lib/python3.11/dist-packages (from qiskit-aer) (5.9.5)\n",
            "Requirement already satisfied: rustworkx>=0.15.0 in /usr/local/lib/python3.11/dist-packages (from qiskit>=1.1.0->qiskit-aer) (0.16.0)\n",
            "Requirement already satisfied: sympy>=1.3 in /usr/local/lib/python3.11/dist-packages (from qiskit>=1.1.0->qiskit-aer) (1.13.1)\n",
            "Requirement already satisfied: dill>=0.3 in /usr/local/lib/python3.11/dist-packages (from qiskit>=1.1.0->qiskit-aer) (0.3.7)\n",
            "Requirement already satisfied: python-dateutil>=2.8.0 in /usr/local/lib/python3.11/dist-packages (from qiskit>=1.1.0->qiskit-aer) (2.9.0.post0)\n",
            "Requirement already satisfied: stevedore>=3.0.0 in /usr/local/lib/python3.11/dist-packages (from qiskit>=1.1.0->qiskit-aer) (5.4.1)\n",
            "Requirement already satisfied: typing-extensions in /usr/local/lib/python3.11/dist-packages (from qiskit>=1.1.0->qiskit-aer) (4.13.2)\n",
            "Requirement already satisfied: symengine<0.14,>=0.11 in /usr/local/lib/python3.11/dist-packages (from qiskit>=1.1.0->qiskit-aer) (0.13.0)\n",
            "Requirement already satisfied: six>=1.5 in /usr/local/lib/python3.11/dist-packages (from python-dateutil>=2.8.0->qiskit>=1.1.0->qiskit-aer) (1.17.0)\n",
            "Requirement already satisfied: pbr>=2.0.0 in /usr/local/lib/python3.11/dist-packages (from stevedore>=3.0.0->qiskit>=1.1.0->qiskit-aer) (6.1.1)\n",
            "Requirement already satisfied: mpmath<1.4,>=1.1.0 in /usr/local/lib/python3.11/dist-packages (from sympy>=1.3->qiskit>=1.1.0->qiskit-aer) (1.3.0)\n",
            "Requirement already satisfied: setuptools in /usr/local/lib/python3.11/dist-packages (from pbr>=2.0.0->stevedore>=3.0.0->qiskit>=1.1.0->qiskit-aer) (75.2.0)\n",
            "Requirement already satisfied: qiskit[visualization] in /usr/local/lib/python3.11/dist-packages (2.0.0)\n",
            "Requirement already satisfied: rustworkx>=0.15.0 in /usr/local/lib/python3.11/dist-packages (from qiskit[visualization]) (0.16.0)\n",
            "Requirement already satisfied: numpy<3,>=1.17 in /usr/local/lib/python3.11/dist-packages (from qiskit[visualization]) (2.0.2)\n",
            "Requirement already satisfied: scipy>=1.5 in /usr/local/lib/python3.11/dist-packages (from qiskit[visualization]) (1.15.3)\n",
            "Requirement already satisfied: sympy>=1.3 in /usr/local/lib/python3.11/dist-packages (from qiskit[visualization]) (1.13.1)\n",
            "Requirement already satisfied: dill>=0.3 in /usr/local/lib/python3.11/dist-packages (from qiskit[visualization]) (0.3.7)\n",
            "Requirement already satisfied: python-dateutil>=2.8.0 in /usr/local/lib/python3.11/dist-packages (from qiskit[visualization]) (2.9.0.post0)\n",
            "Requirement already satisfied: stevedore>=3.0.0 in /usr/local/lib/python3.11/dist-packages (from qiskit[visualization]) (5.4.1)\n",
            "Requirement already satisfied: typing-extensions in /usr/local/lib/python3.11/dist-packages (from qiskit[visualization]) (4.13.2)\n",
            "Requirement already satisfied: symengine<0.14,>=0.11 in /usr/local/lib/python3.11/dist-packages (from qiskit[visualization]) (0.13.0)\n",
            "Requirement already satisfied: matplotlib>=3.3 in /usr/local/lib/python3.11/dist-packages (from qiskit[visualization]) (3.10.0)\n",
            "Requirement already satisfied: pydot in /usr/local/lib/python3.11/dist-packages (from qiskit[visualization]) (3.0.4)\n",
            "Requirement already satisfied: Pillow>=4.2.1 in /usr/local/lib/python3.11/dist-packages (from qiskit[visualization]) (11.2.1)\n",
            "Requirement already satisfied: pylatexenc>=1.4 in /usr/local/lib/python3.11/dist-packages (from qiskit[visualization]) (2.10)\n",
            "Requirement already satisfied: seaborn>=0.9.0 in /usr/local/lib/python3.11/dist-packages (from qiskit[visualization]) (0.13.2)\n",
            "Requirement already satisfied: contourpy>=1.0.1 in /usr/local/lib/python3.11/dist-packages (from matplotlib>=3.3->qiskit[visualization]) (1.3.2)\n",
            "Requirement already satisfied: cycler>=0.10 in /usr/local/lib/python3.11/dist-packages (from matplotlib>=3.3->qiskit[visualization]) (0.12.1)\n",
            "Requirement already satisfied: fonttools>=4.22.0 in /usr/local/lib/python3.11/dist-packages (from matplotlib>=3.3->qiskit[visualization]) (4.57.0)\n",
            "Requirement already satisfied: kiwisolver>=1.3.1 in /usr/local/lib/python3.11/dist-packages (from matplotlib>=3.3->qiskit[visualization]) (1.4.8)\n",
            "Requirement already satisfied: packaging>=20.0 in /usr/local/lib/python3.11/dist-packages (from matplotlib>=3.3->qiskit[visualization]) (24.2)\n",
            "Requirement already satisfied: pyparsing>=2.3.1 in /usr/local/lib/python3.11/dist-packages (from matplotlib>=3.3->qiskit[visualization]) (3.2.3)\n",
            "Requirement already satisfied: six>=1.5 in /usr/local/lib/python3.11/dist-packages (from python-dateutil>=2.8.0->qiskit[visualization]) (1.17.0)\n",
            "Requirement already satisfied: pandas>=1.2 in /usr/local/lib/python3.11/dist-packages (from seaborn>=0.9.0->qiskit[visualization]) (2.2.2)\n",
            "Requirement already satisfied: pbr>=2.0.0 in /usr/local/lib/python3.11/dist-packages (from stevedore>=3.0.0->qiskit[visualization]) (6.1.1)\n",
            "Requirement already satisfied: mpmath<1.4,>=1.1.0 in /usr/local/lib/python3.11/dist-packages (from sympy>=1.3->qiskit[visualization]) (1.3.0)\n",
            "Requirement already satisfied: pytz>=2020.1 in /usr/local/lib/python3.11/dist-packages (from pandas>=1.2->seaborn>=0.9.0->qiskit[visualization]) (2025.2)\n",
            "Requirement already satisfied: tzdata>=2022.7 in /usr/local/lib/python3.11/dist-packages (from pandas>=1.2->seaborn>=0.9.0->qiskit[visualization]) (2025.2)\n",
            "Requirement already satisfied: setuptools in /usr/local/lib/python3.11/dist-packages (from pbr>=2.0.0->stevedore>=3.0.0->qiskit[visualization]) (75.2.0)\n"
          ]
        }
      ],
      "source": [
        "!pip install qiskit\n",
        "!pip install qiskit-ibm-runtime\n",
        "!pip install qiskit-aer\n",
        "!pip install 'qiskit[visualization]'"
      ]
    },
    {
      "cell_type": "code",
      "source": [
        "import numpy as np\n",
        "import matplotlib.pyplot as plt\n",
        "from scipy.optimize import minimize\n",
        "import qiskit_ibm_runtime\n",
        "from qiskit import QuantumCircuit\n",
        "from qiskit.circuit import ParameterVector, Parameter\n",
        "from qiskit.quantum_info import SparsePauliOp\n",
        "from qiskit.transpiler.preset_passmanagers import generate_preset_pass_manager\n",
        "from qiskit_ibm_runtime import QiskitRuntimeService, EstimatorV2 as Estimator\n",
        "# Get a fake backend from the fake provider\n",
        "from qiskit_ibm_runtime.fake_provider import FakeManilaV2"
      ],
      "metadata": {
        "id": "x5N4jRXcJhzE"
      },
      "execution_count": 43,
      "outputs": []
    },
    {
      "cell_type": "code",
      "source": [
        "# method 1: Using diagonalization\n",
        "\n",
        "H = np.matrix([\n",
        "    [-17.1715, -0.3949, -0.3536, -0.2312, -0.5932],\n",
        "    [-0.3949, -12.5785, -0.6209, -0.3796, -0.3992],\n",
        "    [-0.3536, -0.6209, -14.6856, -0.2977, -0.3659],\n",
        "    [-0.2312, -0.3796, -0.2977, -16.4997, -0.2440],\n",
        "    [-0.5932, -0.3992, -0.3659, -0.2440, -18.7504]])\n",
        "\n",
        "e,v = np.linalg.eig(H)\n",
        "\n",
        "print('EigenValues : ', e)\n",
        "print('EigenVectors: ', v)\n",
        "print()\n",
        "\n",
        "print(f\"Ground state energy (minimum eigenvalue): {min(e):.6f}\")\n"
      ],
      "metadata": {
        "colab": {
          "base_uri": "https://localhost:8080/"
        },
        "id": "MlSgb01yMh0a",
        "outputId": "b91c46ba-2f15-426b-eb79-b39feadeb8c2"
      },
      "execution_count": 44,
      "outputs": [
        {
          "output_type": "stream",
          "name": "stdout",
          "text": [
            "EigenValues :  [-12.36285085 -19.10320303 -14.68877845 -17.07038628 -16.46048139]\n",
            "EigenVectors:  [[ 0.05405394 -0.34129343 -0.13429063 -0.85620622  0.35982482]\n",
            " [-0.96726311 -0.09709155  0.2089675  -0.08304916 -0.0664133 ]\n",
            " [ 0.23560921 -0.12649883  0.95011213 -0.12569291 -0.09987283]\n",
            " [ 0.06645696 -0.14467921 -0.17258827 -0.29967197 -0.9246953 ]\n",
            " [ 0.03939566 -0.91496339 -0.07615016  0.3929526   0.03285411]]\n",
            "\n",
            "Ground state energy (minimum eigenvalue): -19.103203\n"
          ]
        }
      ]
    },
    {
      "cell_type": "code",
      "source": [
        "# method2: using classical variational method\n",
        "\n",
        "# Define the 5x5 Hamiltonian\n",
        "H = np.array([\n",
        "    [-17.1715, -0.3949, -0.3536, -0.2312, -0.5932],\n",
        "    [-0.3949, -12.5785, -0.6209, -0.3796, -0.3992],\n",
        "    [-0.3536, -0.6209, -14.6856, -0.2977, -0.3659],\n",
        "    [-0.2312, -0.3796, -0.2977, -16.4997, -0.2440],\n",
        "    [-0.5932, -0.3992, -0.3659, -0.2440, -18.7504]\n",
        "])\n",
        "\n",
        "# Trial wavefunction using 4 angular parameters (generalized spherical coordinates)\n",
        "def trial_wavefunction_5d(params):\n",
        "    assert len(params) == 4, \"Need 4 parameters for a 5D unit vector\"\n",
        "\n",
        "    theta1, theta2, theta3, theta4 = params\n",
        "    psi = np.zeros(5)\n",
        "\n",
        "    psi[0] = np.cos(theta1)\n",
        "    psi[1] = np.sin(theta1) * np.cos(theta2)\n",
        "    psi[2] = np.sin(theta1) * np.sin(theta2) * np.cos(theta3)\n",
        "    psi[3] = np.sin(theta1) * np.sin(theta2) * np.sin(theta3) * np.cos(theta4)\n",
        "    psi[4] = np.sin(theta1) * np.sin(theta2) * np.sin(theta3) * np.sin(theta4)\n",
        "\n",
        "    return psi\n",
        "\n",
        "# Variational energy function\n",
        "def classical_variational_5d(H):\n",
        "    def energy(params):\n",
        "        psi = trial_wavefunction_5d(params)\n",
        "        ec = psi.T @ H @ psi\n",
        "        return ec  # already a scalar\n",
        "\n",
        "    # Initial guess: mid-range angles\n",
        "    initial_params = [np.pi / 4] * 4\n",
        "\n",
        "    # Bounds for each angle: [0, π] or [0, 2π] — here we use [0, π]\n",
        "    bounds = [(0, np.pi)] * 4\n",
        "\n",
        "    result = minimize(energy, initial_params, bounds=bounds)\n",
        "\n",
        "    min_energy = result.fun\n",
        "    return min_energy\n",
        "\n",
        "# Run variational minimization\n",
        "min_energy = classical_variational_5d(H)\n",
        "print(f\"Ground state energy (minimum eigenvalue estimate): {min_energy:.6f}\")\n"
      ],
      "metadata": {
        "colab": {
          "base_uri": "https://localhost:8080/"
        },
        "id": "KxrTa0WMgdOZ",
        "outputId": "e5f1e0ad-fde5-42a6-dc2b-ecc8779b7c26"
      },
      "execution_count": 45,
      "outputs": [
        {
          "output_type": "stream",
          "name": "stdout",
          "text": [
            "Ground state energy (minimum eigenvalue estimate): -17.171500\n"
          ]
        }
      ]
    },
    {
      "cell_type": "code",
      "source": [
        "# method3: using VQE\n",
        "\n",
        "# Estimator using Fake Provider\n",
        "backend = FakeManilaV2()\n",
        "estimator = Estimator(mode=backend)\n",
        "#Giving number of shots\n",
        "estimator.options.default_shots = 10000"
      ],
      "metadata": {
        "id": "IctjC3OtJmcj"
      },
      "execution_count": 49,
      "outputs": []
    },
    {
      "cell_type": "code",
      "source": [
        "from qiskit.quantum_info import SparsePauliOp\n",
        "\n",
        "hamiltonian = SparsePauliOp.from_list([\n",
        "    (\"IIIII\", -39.8419),\n",
        "    (\"IIIIZ\", 8.5858),\n",
        "    (\"IIIZI\", 6.28925),\n",
        "    (\"IIZII\", 7.3428),\n",
        "    (\"IZIII\", 8.24885),\n",
        "    (\"ZIIII\", 9.3752),\n",
        "    (\"IIIXX\", -0.19745),\n",
        "    (\"IIIYY\", -0.19745),\n",
        "    (\"IIXZX\", -0.1768),\n",
        "    (\"IIYZY\", -0.1768),\n",
        "    (\"IXZZX\", -0.1156),\n",
        "    (\"IYZZY\", -0.1156),\n",
        "    (\"XZZZX\", -0.2966),\n",
        "    (\"YZZZY\", -0.2966),\n",
        "    (\"IIXXI\", -0.31045),\n",
        "    (\"IIYYI\", -0.31045),\n",
        "    (\"IXIXI\", -0.1898),\n",
        "    (\"IYIYI\", -0.1898),\n",
        "    (\"XIIXI\", -0.1996),\n",
        "    (\"YIIYI\", -0.1996),\n",
        "    (\"IXXII\", -0.14885),\n",
        "    (\"IYYII\", -0.14885),\n",
        "    (\"XIXII\", -0.18295),\n",
        "    (\"YIYII\", -0.18295),\n",
        "    (\"XXIII\", -0.122),\n",
        "    (\"YYIII\", -0.122)\n",
        "])\n"
      ],
      "metadata": {
        "id": "zWhbM6r0mOJl"
      },
      "execution_count": 50,
      "outputs": []
    },
    {
      "cell_type": "code",
      "source": [
        "from qiskit import QuantumCircuit\n",
        "from qiskit.circuit import ParameterVector\n",
        "\n",
        "# Create a parameter vector with 4 parameters\n",
        "theta = ParameterVector('θ', 4)\n",
        "\n",
        "# Initialize a 5-qubit quantum circuit\n",
        "ansatz = QuantumCircuit(5)\n",
        "\n",
        "ansatz.ry(theta[0],3)\n",
        "ansatz.x(4)\n",
        "ansatz.cx(3,4)\n",
        "\n",
        "ansatz.cry(theta[1], 3, 2)\n",
        "ansatz.cx(2,3)\n",
        "\n",
        "ansatz.cry(theta[2], 2, 1)\n",
        "ansatz.cx(1,2)\n",
        "\n",
        "ansatz.cry(theta[3], 1, 0)\n",
        "ansatz.cx(0,1)\n",
        "\n",
        "ansatz.draw(\"mpl\")\n",
        "\n"
      ],
      "metadata": {
        "colab": {
          "base_uri": "https://localhost:8080/",
          "height": 384
        },
        "id": "16Ysg0wzmS33",
        "outputId": "551695a1-32fa-4109-ef8e-a3b6f57e5e01"
      },
      "execution_count": 51,
      "outputs": [
        {
          "output_type": "execute_result",
          "data": {
            "text/plain": [
              "<Figure size 789.163x451.5 with 1 Axes>"
            ],
            "image/png": "[encoded data removed]"
          },
          "metadata": {},
          "execution_count": 51
        }
      ]
    },
    {
      "cell_type": "code",
      "source": [
        "# Transpile the Hamiltonian and ansatz\n",
        "pm = generate_preset_pass_manager(backend=backend, optimization_level=3)\n",
        "ansatz_isa = pm.run(ansatz)\n",
        "hamiltonian_isa = hamiltonian.apply_layout(layout=ansatz_isa.layout)"
      ],
      "metadata": {
        "id": "LUumQ_Ve8iPM"
      },
      "execution_count": 52,
      "outputs": []
    },
    {
      "cell_type": "code",
      "source": [
        "backend = FakeManilaV2()\n",
        "estimator = Estimator(mode=backend)\n",
        "#Giving number of shots\n",
        "estimator.options.default_shots = 10000"
      ],
      "metadata": {
        "id": "5SH7rvdGk0Zd"
      },
      "execution_count": 53,
      "outputs": []
    },
    {
      "cell_type": "code",
      "source": [
        "#Function to calcuate energy\n",
        "def variational(params, ansatz, hamiltonian, estimator):\n",
        "\n",
        "  \"\"\"Parameters:\n",
        "       params (ndarray): Array of ansatz parameters\n",
        "       ansatz (QuantumCircuit): Parameterized ansatz circuit\n",
        "       hamiltonian (SparsePauliOp): Operator representation of Hamiltonian\n",
        "       estimator (EstimatorV2): Estimator primitive instance\"\"\"\n",
        "  pub = (ansatz, hamiltonian, [params])\n",
        "  result = estimator.run(pubs=[pub]).result()\n",
        "  energy = result[0].data.evs[0]\n",
        "  return energy\n"
      ],
      "metadata": {
        "id": "rSt4SGpR9E0_"
      },
      "execution_count": 54,
      "outputs": []
    },
    {
      "cell_type": "code",
      "source": [
        "# Minimization function for each Hamiltonian\n",
        "def minimization(ansatz_isa, hamiltonian_isa, ansatz):\n",
        "    x0 = 2 * np.pi * np.random.random(ansatz.num_parameters)\n",
        "    result = minimize(\n",
        "        variational,\n",
        "        x0,\n",
        "        args=(ansatz_isa, hamiltonian_isa, estimator),\n",
        "        method=\"COBYLA\"\n",
        "    )\n",
        "    return result.fun\n"
      ],
      "metadata": {
        "id": "AiwslrNG9P6n"
      },
      "execution_count": 55,
      "outputs": []
    },
    {
      "cell_type": "code",
      "source": [
        "# ground state energy from VQE\n",
        "\n",
        "result = minimization(ansatz_isa, hamiltonian_isa, ansatz)\n",
        "print(f\"Ground state energy of JW: {result}\")\n"
      ],
      "metadata": {
        "colab": {
          "base_uri": "https://localhost:8080/"
        },
        "id": "bS4y991w9aXG",
        "outputId": "9dbec7ea-000c-49dd-fec2-c70279ee231b"
      },
      "execution_count": 56,
      "outputs": [
        {
          "output_type": "stream",
          "name": "stdout",
          "text": [
            "Ground state energy of JW: -19.77496466999999\n"
          ]
        }
      ]
    },
    {
      "cell_type": "code",
      "source": [
        "runs = np.arange(1,11,1)\n",
        "E_runs = []\n",
        "for i in runs:\n",
        "    E_runs.append(minimization(ansatz_isa, hamiltonian_isa, ansatz))\n",
        "print(f\"JW: {E_runs}\")"
      ],
      "metadata": {
        "colab": {
          "base_uri": "https://localhost:8080/"
        },
        "id": "rtDnl4Hd9m6x",
        "outputId": "20a7e419-1d5f-4520-9d21-73a74c38e3cf"
      },
      "execution_count": 57,
      "outputs": [
        {
          "output_type": "stream",
          "name": "stdout",
          "text": [
            "JW: [np.float64(-19.88488786), np.float64(-19.861115329999993), np.float64(-19.820435780000004), np.float64(-19.905968920000007), np.float64(-19.947047470000008), np.float64(-19.859630689999992), np.float64(-19.821257449999997), np.float64(-20.09535628), np.float64(-19.798695969999994), np.float64(-19.838143159999998)]\n"
          ]
        }
      ]
    },
    {
      "cell_type": "code",
      "source": [
        "# True value for first exited state of 58Ni\n",
        "true_value = -20.024# (MeV)\n",
        "\n",
        "plt.hist(np.array(E_runs),label = 'VQE',color = 'green')\n",
        "plt.xlabel('E (MeV)')\n",
        "plt.ylabel('Counts')\n",
        "plt.axvline(x = true_value, ymin = 0, ymax = 1, linestyle = '--', c = 'k', label = 'True value')\n",
        "plt.xlim(-30,-15)\n",
        "plt.legend()\n",
        "plt.show()"
      ],
      "metadata": {
        "colab": {
          "base_uri": "https://localhost:8080/",
          "height": 449
        },
        "id": "p8qTbd0f9lzo",
        "outputId": "a71de85b-119c-412b-fb45-d957bf05c0ec"
      },
      "execution_count": 59,
      "outputs": [
        {
          "output_type": "display_data",
          "data": {
            "text/plain": [
              "<Figure size 640x480 with 1 Axes>"
            ],
            "image/png": "[encoded data removed]"
          },
          "metadata": {}
        }
      ]
    }
  ]
}