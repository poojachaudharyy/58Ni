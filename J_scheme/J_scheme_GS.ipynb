{
  "cells": [
    {
      "cell_type": "code",
      "execution_count": 1,
      "metadata": {
        "colab": {
          "base_uri": "https://localhost:8080/"
        },
        "id": "yUpd-8VWjV5n",
        "outputId": "09420de3-50be-43da-edc6-17f637c879ad"
      },
      "outputs": [
        {
          "name": "stdout",
          "output_type": "stream",
          "text": [
            "Requirement already satisfied: qiskit in /opt/anaconda3/lib/python3.11/site-packages (1.2.4)\n",
            "Requirement already satisfied: rustworkx>=0.15.0 in /opt/anaconda3/lib/python3.11/site-packages (from qiskit) (0.15.1)\n",
            "Requirement already satisfied: numpy<3,>=1.17 in /opt/anaconda3/lib/python3.11/site-packages (from qiskit) (1.26.4)\n",
            "Requirement already satisfied: scipy>=1.5 in /opt/anaconda3/lib/python3.11/site-packages (from qiskit) (1.11.4)\n",
            "Requirement already satisfied: sympy>=1.3 in /opt/anaconda3/lib/python3.11/site-packages (from qiskit) (1.10.1)\n",
            "Requirement already satisfied: dill>=0.3 in /opt/anaconda3/lib/python3.11/site-packages (from qiskit) (0.3.7)\n",
            "Requirement already satisfied: python-dateutil>=2.8.0 in /opt/anaconda3/lib/python3.11/site-packages (from qiskit) (2.8.2)\n",
            "Requirement already satisfied: stevedore>=3.0.0 in /Users/poojachoudhary/.local/lib/python3.11/site-packages (from qiskit) (5.2.0)\n",
            "Requirement already satisfied: typing-extensions in /opt/anaconda3/lib/python3.11/site-packages (from qiskit) (4.9.0)\n",
            "Requirement already satisfied: symengine<0.14,>=0.11 in /Users/poojachoudhary/.local/lib/python3.11/site-packages (from qiskit) (0.11.0)\n",
            "Requirement already satisfied: six>=1.5 in /opt/anaconda3/lib/python3.11/site-packages (from python-dateutil>=2.8.0->qiskit) (1.16.0)\n",
            "Requirement already satisfied: pbr!=2.1.0,>=2.0.0 in /Users/poojachoudhary/.local/lib/python3.11/site-packages (from stevedore>=3.0.0->qiskit) (6.0.0)\n",
            "Requirement already satisfied: mpmath>=0.19 in /opt/anaconda3/lib/python3.11/site-packages (from sympy>=1.3->qiskit) (1.3.0)\n",
            "Requirement already satisfied: qiskit-ibm-runtime in /opt/anaconda3/lib/python3.11/site-packages (0.29.0)\n",
            "Requirement already satisfied: requests>=2.19 in /opt/anaconda3/lib/python3.11/site-packages (from qiskit-ibm-runtime) (2.31.0)\n",
            "Requirement already satisfied: requests-ntlm>=1.1.0 in /opt/anaconda3/lib/python3.11/site-packages (from qiskit-ibm-runtime) (1.2.0)\n",
            "Requirement already satisfied: numpy>=1.13 in /opt/anaconda3/lib/python3.11/site-packages (from qiskit-ibm-runtime) (1.26.4)\n",
            "Requirement already satisfied: urllib3>=1.21.1 in /opt/anaconda3/lib/python3.11/site-packages (from qiskit-ibm-runtime) (2.2.1)\n",
            "Requirement already satisfied: python-dateutil>=2.8.0 in /opt/anaconda3/lib/python3.11/site-packages (from qiskit-ibm-runtime) (2.8.2)\n",
            "Requirement already satisfied: websocket-client>=1.5.1 in /opt/anaconda3/lib/python3.11/site-packages (from qiskit-ibm-runtime) (1.8.0)\n",
            "Requirement already satisfied: ibm-platform-services>=0.22.6 in /opt/anaconda3/lib/python3.11/site-packages (from qiskit-ibm-runtime) (0.53.7)\n",
            "Requirement already satisfied: pydantic>=2.5.0 in /opt/anaconda3/lib/python3.11/site-packages (from qiskit-ibm-runtime) (2.9.2)\n",
            "Requirement already satisfied: qiskit>=1.1.0 in /opt/anaconda3/lib/python3.11/site-packages (from qiskit-ibm-runtime) (1.2.4)\n",
            "Requirement already satisfied: ibm-cloud-sdk-core<4.0.0,>=3.19.2 in /opt/anaconda3/lib/python3.11/site-packages (from ibm-platform-services>=0.22.6->qiskit-ibm-runtime) (3.20.1)\n",
            "Requirement already satisfied: annotated-types>=0.6.0 in /opt/anaconda3/lib/python3.11/site-packages (from pydantic>=2.5.0->qiskit-ibm-runtime) (0.7.0)\n",
            "Requirement already satisfied: pydantic-core==2.23.4 in /opt/anaconda3/lib/python3.11/site-packages (from pydantic>=2.5.0->qiskit-ibm-runtime) (2.23.4)\n",
            "Requirement already satisfied: typing-extensions>=4.6.1 in /opt/anaconda3/lib/python3.11/site-packages (from pydantic>=2.5.0->qiskit-ibm-runtime) (4.9.0)\n",
            "Requirement already satisfied: six>=1.5 in /opt/anaconda3/lib/python3.11/site-packages (from python-dateutil>=2.8.0->qiskit-ibm-runtime) (1.16.0)\n",
            "Requirement already satisfied: rustworkx>=0.15.0 in /opt/anaconda3/lib/python3.11/site-packages (from qiskit>=1.1.0->qiskit-ibm-runtime) (0.15.1)\n",
            "Requirement already satisfied: scipy>=1.5 in /opt/anaconda3/lib/python3.11/site-packages (from qiskit>=1.1.0->qiskit-ibm-runtime) (1.11.4)\n",
            "Requirement already satisfied: sympy>=1.3 in /opt/anaconda3/lib/python3.11/site-packages (from qiskit>=1.1.0->qiskit-ibm-runtime) (1.10.1)\n",
            "Requirement already satisfied: dill>=0.3 in /opt/anaconda3/lib/python3.11/site-packages (from qiskit>=1.1.0->qiskit-ibm-runtime) (0.3.7)\n",
            "Requirement already satisfied: stevedore>=3.0.0 in /Users/poojachoudhary/.local/lib/python3.11/site-packages (from qiskit>=1.1.0->qiskit-ibm-runtime) (5.2.0)\n",
            "Requirement already satisfied: symengine<0.14,>=0.11 in /Users/poojachoudhary/.local/lib/python3.11/site-packages (from qiskit>=1.1.0->qiskit-ibm-runtime) (0.11.0)\n",
            "Requirement already satisfied: charset-normalizer<4,>=2 in /opt/anaconda3/lib/python3.11/site-packages (from requests>=2.19->qiskit-ibm-runtime) (2.0.4)\n",
            "Requirement already satisfied: idna<4,>=2.5 in /opt/anaconda3/lib/python3.11/site-packages (from requests>=2.19->qiskit-ibm-runtime) (3.4)\n",
            "Requirement already satisfied: certifi>=2017.4.17 in /opt/anaconda3/lib/python3.11/site-packages (from requests>=2.19->qiskit-ibm-runtime) (2024.2.2)\n",
            "Requirement already satisfied: cryptography>=1.3 in /opt/anaconda3/lib/python3.11/site-packages (from requests-ntlm>=1.1.0->qiskit-ibm-runtime) (42.0.2)\n",
            "Requirement already satisfied: pyspnego>=0.1.6 in /opt/anaconda3/lib/python3.11/site-packages (from requests-ntlm>=1.1.0->qiskit-ibm-runtime) (0.10.2)\n",
            "Requirement already satisfied: cffi>=1.12 in /opt/anaconda3/lib/python3.11/site-packages (from cryptography>=1.3->requests-ntlm>=1.1.0->qiskit-ibm-runtime) (1.16.0)\n",
            "Requirement already satisfied: PyJWT<3.0.0,>=2.8.0 in /opt/anaconda3/lib/python3.11/site-packages (from ibm-cloud-sdk-core<4.0.0,>=3.19.2->ibm-platform-services>=0.22.6->qiskit-ibm-runtime) (2.8.0)\n",
            "Requirement already satisfied: pbr!=2.1.0,>=2.0.0 in /Users/poojachoudhary/.local/lib/python3.11/site-packages (from stevedore>=3.0.0->qiskit>=1.1.0->qiskit-ibm-runtime) (6.0.0)\n",
            "Requirement already satisfied: mpmath>=0.19 in /opt/anaconda3/lib/python3.11/site-packages (from sympy>=1.3->qiskit>=1.1.0->qiskit-ibm-runtime) (1.3.0)\n",
            "Requirement already satisfied: pycparser in /opt/anaconda3/lib/python3.11/site-packages (from cffi>=1.12->cryptography>=1.3->requests-ntlm>=1.1.0->qiskit-ibm-runtime) (2.21)\n",
            "Requirement already satisfied: qiskit-aer in /opt/anaconda3/lib/python3.11/site-packages (0.14.2)\n",
            "Requirement already satisfied: qiskit>=0.45.2 in /opt/anaconda3/lib/python3.11/site-packages (from qiskit-aer) (1.2.4)\n",
            "Requirement already satisfied: numpy>=1.16.3 in /opt/anaconda3/lib/python3.11/site-packages (from qiskit-aer) (1.26.4)\n",
            "Requirement already satisfied: scipy>=1.0 in /opt/anaconda3/lib/python3.11/site-packages (from qiskit-aer) (1.11.4)\n",
            "Requirement already satisfied: psutil>=5 in /opt/anaconda3/lib/python3.11/site-packages (from qiskit-aer) (5.9.0)\n",
            "Requirement already satisfied: rustworkx>=0.15.0 in /opt/anaconda3/lib/python3.11/site-packages (from qiskit>=0.45.2->qiskit-aer) (0.15.1)\n",
            "Requirement already satisfied: sympy>=1.3 in /opt/anaconda3/lib/python3.11/site-packages (from qiskit>=0.45.2->qiskit-aer) (1.10.1)\n",
            "Requirement already satisfied: dill>=0.3 in /opt/anaconda3/lib/python3.11/site-packages (from qiskit>=0.45.2->qiskit-aer) (0.3.7)\n",
            "Requirement already satisfied: python-dateutil>=2.8.0 in /opt/anaconda3/lib/python3.11/site-packages (from qiskit>=0.45.2->qiskit-aer) (2.8.2)\n",
            "Requirement already satisfied: stevedore>=3.0.0 in /Users/poojachoudhary/.local/lib/python3.11/site-packages (from qiskit>=0.45.2->qiskit-aer) (5.2.0)\n",
            "Requirement already satisfied: typing-extensions in /opt/anaconda3/lib/python3.11/site-packages (from qiskit>=0.45.2->qiskit-aer) (4.9.0)\n",
            "Requirement already satisfied: symengine<0.14,>=0.11 in /Users/poojachoudhary/.local/lib/python3.11/site-packages (from qiskit>=0.45.2->qiskit-aer) (0.11.0)\n",
            "Requirement already satisfied: six>=1.5 in /opt/anaconda3/lib/python3.11/site-packages (from python-dateutil>=2.8.0->qiskit>=0.45.2->qiskit-aer) (1.16.0)\n",
            "Requirement already satisfied: pbr!=2.1.0,>=2.0.0 in /Users/poojachoudhary/.local/lib/python3.11/site-packages (from stevedore>=3.0.0->qiskit>=0.45.2->qiskit-aer) (6.0.0)\n",
            "Requirement already satisfied: mpmath>=0.19 in /opt/anaconda3/lib/python3.11/site-packages (from sympy>=1.3->qiskit>=0.45.2->qiskit-aer) (1.3.0)\n",
            "Requirement already satisfied: qiskit[visualization] in /opt/anaconda3/lib/python3.11/site-packages (1.2.4)\n",
            "Requirement already satisfied: rustworkx>=0.15.0 in /opt/anaconda3/lib/python3.11/site-packages (from qiskit[visualization]) (0.15.1)\n",
            "Requirement already satisfied: numpy<3,>=1.17 in /opt/anaconda3/lib/python3.11/site-packages (from qiskit[visualization]) (1.26.4)\n",
            "Requirement already satisfied: scipy>=1.5 in /opt/anaconda3/lib/python3.11/site-packages (from qiskit[visualization]) (1.11.4)\n",
            "Requirement already satisfied: sympy>=1.3 in /opt/anaconda3/lib/python3.11/site-packages (from qiskit[visualization]) (1.10.1)\n",
            "Requirement already satisfied: dill>=0.3 in /opt/anaconda3/lib/python3.11/site-packages (from qiskit[visualization]) (0.3.7)\n",
            "Requirement already satisfied: python-dateutil>=2.8.0 in /opt/anaconda3/lib/python3.11/site-packages (from qiskit[visualization]) (2.8.2)\n",
            "Requirement already satisfied: stevedore>=3.0.0 in /Users/poojachoudhary/.local/lib/python3.11/site-packages (from qiskit[visualization]) (5.2.0)\n",
            "Requirement already satisfied: typing-extensions in /opt/anaconda3/lib/python3.11/site-packages (from qiskit[visualization]) (4.9.0)\n",
            "Requirement already satisfied: symengine<0.14,>=0.11 in /Users/poojachoudhary/.local/lib/python3.11/site-packages (from qiskit[visualization]) (0.11.0)\n",
            "Requirement already satisfied: matplotlib>=3.3 in /opt/anaconda3/lib/python3.11/site-packages (from qiskit[visualization]) (3.8.0)\n",
            "Requirement already satisfied: pydot in /Users/poojachoudhary/.local/lib/python3.11/site-packages (from qiskit[visualization]) (2.0.0)\n",
            "Requirement already satisfied: Pillow>=4.2.1 in /opt/anaconda3/lib/python3.11/site-packages (from qiskit[visualization]) (10.2.0)\n",
            "Requirement already satisfied: pylatexenc>=1.4 in /Users/poojachoudhary/.local/lib/python3.11/site-packages (from qiskit[visualization]) (2.10)\n",
            "Requirement already satisfied: seaborn>=0.9.0 in /opt/anaconda3/lib/python3.11/site-packages (from qiskit[visualization]) (0.12.2)\n",
            "Requirement already satisfied: contourpy>=1.0.1 in /opt/anaconda3/lib/python3.11/site-packages (from matplotlib>=3.3->qiskit[visualization]) (1.2.0)\n",
            "Requirement already satisfied: cycler>=0.10 in /opt/anaconda3/lib/python3.11/site-packages (from matplotlib>=3.3->qiskit[visualization]) (0.11.0)\n",
            "Requirement already satisfied: fonttools>=4.22.0 in /opt/anaconda3/lib/python3.11/site-packages (from matplotlib>=3.3->qiskit[visualization]) (4.25.0)\n",
            "Requirement already satisfied: kiwisolver>=1.0.1 in /opt/anaconda3/lib/python3.11/site-packages (from matplotlib>=3.3->qiskit[visualization]) (1.4.4)\n",
            "Requirement already satisfied: packaging>=20.0 in /opt/anaconda3/lib/python3.11/site-packages (from matplotlib>=3.3->qiskit[visualization]) (22.0)\n",
            "Requirement already satisfied: pyparsing>=2.3.1 in /opt/anaconda3/lib/python3.11/site-packages (from matplotlib>=3.3->qiskit[visualization]) (3.0.9)\n",
            "Requirement already satisfied: six>=1.5 in /opt/anaconda3/lib/python3.11/site-packages (from python-dateutil>=2.8.0->qiskit[visualization]) (1.16.0)\n",
            "Requirement already satisfied: pandas>=0.25 in /opt/anaconda3/lib/python3.11/site-packages (from seaborn>=0.9.0->qiskit[visualization]) (2.1.4)\n",
            "Requirement already satisfied: pbr!=2.1.0,>=2.0.0 in /Users/poojachoudhary/.local/lib/python3.11/site-packages (from stevedore>=3.0.0->qiskit[visualization]) (6.0.0)\n",
            "Requirement already satisfied: mpmath>=0.19 in /opt/anaconda3/lib/python3.11/site-packages (from sympy>=1.3->qiskit[visualization]) (1.3.0)\n",
            "Requirement already satisfied: pytz>=2020.1 in /opt/anaconda3/lib/python3.11/site-packages (from pandas>=0.25->seaborn>=0.9.0->qiskit[visualization]) (2023.3.post1)\n",
            "Requirement already satisfied: tzdata>=2022.1 in /opt/anaconda3/lib/python3.11/site-packages (from pandas>=0.25->seaborn>=0.9.0->qiskit[visualization]) (2023.3)\n"
          ]
        }
      ],
      "source": [
        "!pip install qiskit\n",
        "!pip install qiskit-ibm-runtime\n",
        "!pip install qiskit-aer\n",
        "!pip install 'qiskit[visualization]'"
      ]
    },
    {
      "cell_type": "code",
      "execution_count": 2,
      "metadata": {
        "id": "x5N4jRXcJhzE"
      },
      "outputs": [],
      "source": [
        "import numpy as np\n",
        "import matplotlib.pyplot as plt\n",
        "from scipy.optimize import minimize\n",
        "import qiskit_ibm_runtime\n",
        "from qiskit import QuantumCircuit\n",
        "from qiskit.circuit import ParameterVector, Parameter\n",
        "from qiskit.quantum_info import SparsePauliOp\n",
        "from qiskit.transpiler.preset_passmanagers import generate_preset_pass_manager\n",
        "from qiskit_ibm_runtime import QiskitRuntimeService, EstimatorV2 as Estimator\n",
        "# Get a fake backend from the fake provider\n",
        "from qiskit_ibm_runtime.fake_provider import FakeManilaV2"
      ]
    },
    {
      "cell_type": "code",
      "execution_count": 3,
      "metadata": {
        "colab": {
          "base_uri": "https://localhost:8080/"
        },
        "id": "MlSgb01yMh0a",
        "outputId": "9edb1c9e-183a-4947-c31e-07d6ec583280"
      },
      "outputs": [
        {
          "name": "stdout",
          "output_type": "stream",
          "text": [
            "EigenValues :  [-20.99027321 -18.25947269 -15.30445409]\n",
            "EigenVectors:  [[-0.89413618 -0.39241849 -0.21570401]\n",
            " [-0.37502775  0.91945388 -0.11814715]\n",
            " [-0.24469302  0.02474465  0.9692848 ]]\n",
            "\n",
            "Ground State Energy: -20.990273214759483\n"
          ]
        }
      ],
      "source": [
        "# method 1: Using diagonalization\n",
        "\n",
        "H = np.matrix([[-20.3052, -0.84040, -1.21530],[-0.84040, -18.6023, -0.58900],[-1.21530, -0.58900, -15.6467]])\n",
        "e,v = np.linalg.eig(H)\n",
        "\n",
        "print('EigenValues : ', e)\n",
        "print('EigenVectors: ', v)\n",
        "print()\n",
        "print('Ground State Energy:', min(e))"
      ]
    },
    {
      "cell_type": "code",
      "execution_count": 4,
      "metadata": {
        "colab": {
          "base_uri": "https://localhost:8080/"
        },
        "id": "I0wFECOs7mdW",
        "outputId": "84205c85-44c9-4c5c-e803-cc3247fefa63"
      },
      "outputs": [
        {
          "name": "stdout",
          "output_type": "stream",
          "text": [
            " ground state energy (minimum eigenvalue): -20.3052\n",
            "\n",
            "Optimal c: 1.0\n",
            "\n"
          ]
        },
        {
          "name": "stderr",
          "output_type": "stream",
          "text": [
            "/var/folders/hc/8pcw73b94qq896mhyxzmh7m00000gn/T/ipykernel_4571/1778993440.py:8: DeprecationWarning: Conversion of an array with ndim > 0 to a scalar is deprecated, and will error in future. Ensure you extract a single element from your array before performing this operation. (Deprecated NumPy 1.25.)\n",
            "  psi_c = np.matrix([[float(c), float(s), 0.0],[-float(s), float(c), 0.0], [ 0.0, 0.0, 1.0]])   # parameterized wavefunction matrix\n"
          ]
        }
      ],
      "source": [
        "# method 2: Using classical variational method having 1 parameter c\n",
        "\n",
        "H = np.matrix([[-20.3052, -0.84040, -1.21530],[-0.84040, -18.6023, -0.58900],[-1.21530, -0.58900, -15.6467]])\n",
        "\n",
        "def classical_variational_1parameter(hamiltonian):\n",
        "  def energy(c):\n",
        "    s = np.sqrt(1-c**2)\n",
        "    psi_c = np.matrix([[float(c), float(s), 0.0],[-float(s), float(c), 0.0], [ 0.0, 0.0, 1.0]])   # parameterized wavefunction matrix\n",
        "    ec = psi_c.T @ hamiltonian @ psi_c     # expectation value\n",
        "    return np.real(ec[0,0])\n",
        "  result = minimize(energy, 0.5, bounds = [(-1, 1)])\n",
        "  min_energy = result.fun\n",
        "  optimal_c = result.x[0]\n",
        "  return min_energy , optimal_c\n",
        "\n",
        "min_energy, optimal_c = classical_variational_1parameter(H)\n",
        "print(f\" ground state energy (minimum eigenvalue): {min_energy}\")\n",
        "print()\n",
        "print(f\"Optimal c: {optimal_c}\")\n",
        "print()"
      ]
    },
    {
      "cell_type": "code",
      "execution_count": 5,
      "metadata": {
        "colab": {
          "base_uri": "https://localhost:8080/"
        },
        "id": "bs8flxpkbSCI",
        "outputId": "b7c25a11-a14b-410c-86f0-0874b9e7f279"
      },
      "outputs": [
        {
          "name": "stdout",
          "output_type": "stream",
          "text": [
            "Minimum eigenvalue: -20.990273214759306\n",
            "\n",
            "Optimal c1: 0.894136078568027\n",
            "Optimal c2: 0.8374986456506429\n"
          ]
        }
      ],
      "source": [
        "# method 3: Using classical variational method having two parameters c1 and c2\n",
        "\n",
        "H = np.matrix([[-20.3052, -0.84040, -1.21530],[-0.84040, -18.6023, -0.58900],[-1.21530, -0.58900, -15.6467]])\n",
        "\n",
        "\n",
        "def classical_variational_2parameters(H):\n",
        "    def energy(params):\n",
        "        c1, c2 = params\n",
        "        s1 = np.sqrt(1 - c1**2)\n",
        "        s2 = np.sqrt(1 - c2**2)\n",
        "        psi_c = np.array([\n",
        "            [c1, -s1*c2, -s1*s2],\n",
        "            [s1*c2, c1*c2, -c1*s2],\n",
        "            [s1*s2, c1*s2, c2]\n",
        "        ])\n",
        "        return np.real((psi_c.T @ H @ psi_c)[0, 0])\n",
        "\n",
        "    result = minimize(energy, [0.5, 0.5], bounds=[(-1, 1), (-1, 1)])\n",
        "    min_energy = result.fun\n",
        "    optimal_c1, optimal_c2 = result.x\n",
        "\n",
        "    return min_energy, optimal_c1, optimal_c2\n",
        "\n",
        "min_energy, optimal_c1, optimal_c2 = classical_variational_2parameters(H)\n",
        "print(f\"Minimum eigenvalue: {min_energy}\")\n",
        "print()\n",
        "print(f\"Optimal c1: {optimal_c1}\")\n",
        "print(f\"Optimal c2: {optimal_c2}\")"
      ]
    },
    {
      "cell_type": "code",
      "execution_count": 6,
      "metadata": {
        "id": "IctjC3OtJmcj"
      },
      "outputs": [],
      "source": [
        "# Estimator using Fake Provider\n",
        "backend = FakeManilaV2()\n",
        "estimator = Estimator(mode=backend)\n",
        "#Giving number of shots\n",
        "estimator.options.default_shots = 10000"
      ]
    },
    {
      "cell_type": "code",
      "execution_count": 7,
      "metadata": {
        "id": "j7GxGnI1JpuO"
      },
      "outputs": [],
      "source": [
        "# Hamiltonian for JW\n",
        "hamiltonian = SparsePauliOp.from_list([(\"III\", -27.2771),(\"IIZ\", 10.1526),(\"IZI\", 9.30115),(\"ZII\", 7.82335),(\"IXX\", -0.4202),(\"IYY\", -0.4202),(\"XZX\", -0.60765),(\"YZY\", -0.60765),(\"XXI\", -0.2945),(\"YYI\", -0.2945)])\n",
        "\n"
      ]
    },
    {
      "cell_type": "code",
      "execution_count": 8,
      "metadata": {
        "colab": {
          "base_uri": "https://localhost:8080/",
          "height": 255
        },
        "id": "LCIX77IY8d1S",
        "outputId": "289a8bd3-009d-4221-d563-47196618fa6d"
      },
      "outputs": [
        {
          "data": {
            "image/png": "[encoded data removed]",
            "text/plain": [
              "<Figure size 454.719x284.278 with 1 Axes>"
            ]
          },
          "execution_count": 8,
          "metadata": {},
          "output_type": "execute_result"
        }
      ],
      "source": [
        "#Ansatze for JW\n",
        "theta = ParameterVector('θ', 2)\n",
        "ansatz = QuantumCircuit(3)\n",
        "ansatz.ry(theta[0],1)\n",
        "ansatz.x(2)\n",
        "ansatz.cx(1,2)\n",
        "ansatz.cry(theta[1], 1, 0)\n",
        "ansatz.cx(0,1)\n",
        "ansatz.draw(\"mpl\")"
      ]
    },
    {
      "cell_type": "code",
      "execution_count": 9,
      "metadata": {
        "id": "LUumQ_Ve8iPM"
      },
      "outputs": [],
      "source": [
        "# Transpile the Hamiltonian and ansatz\n",
        "pm = generate_preset_pass_manager(backend=backend, optimization_level=3)\n",
        "ansatz_isa = pm.run(ansatz)\n",
        "hamiltonian_isa = hamiltonian.apply_layout(layout=ansatz_isa.layout)"
      ]
    },
    {
      "cell_type": "code",
      "execution_count": 10,
      "metadata": {
        "id": "5SH7rvdGk0Zd"
      },
      "outputs": [],
      "source": [
        "backend = FakeManilaV2()\n",
        "estimator = Estimator(mode=backend)\n",
        "#Giving number of shots\n",
        "estimator.options.default_shots = 10000"
      ]
    },
    {
      "cell_type": "code",
      "execution_count": 11,
      "metadata": {
        "id": "rSt4SGpR9E0_"
      },
      "outputs": [],
      "source": [
        "#Function to calcuate energy\n",
        "def variational(params, ansatz, hamiltonian, estimator):\n",
        "  pub = (ansatz, hamiltonian, [params])\n",
        "  result = estimator.run(pubs=[pub]).result()\n",
        "  energy = result[0].data.evs[0]\n",
        "  return energy"
      ]
    },
    {
      "cell_type": "code",
      "execution_count": 12,
      "metadata": {
        "id": "AiwslrNG9P6n"
      },
      "outputs": [],
      "source": [
        "# Minimization function for each Hamiltonian\n",
        "def minimization(ansatz_isa, hamiltonian_isa, ansatz):\n",
        "    x0 = 2 * np.pi * np.random.random(ansatz.num_parameters)\n",
        "    result = minimize(\n",
        "        variational,\n",
        "        x0,\n",
        "        args=(ansatz_isa, hamiltonian_isa, estimator),\n",
        "        method=\"COBYLA\"\n",
        "    )\n",
        "    return result.fun"
      ]
    },
    {
      "cell_type": "code",
      "execution_count": 17,
      "metadata": {
        "colab": {
          "base_uri": "https://localhost:8080/"
        },
        "id": "bS4y991w9aXG",
        "outputId": "78f284e2-f6e4-4d7c-e40f-a4d99f09f1c4"
      },
      "outputs": [
        {
          "name": "stdout",
          "output_type": "stream",
          "text": [
            "Ground state energy of JW: -20.032198700000002\n"
          ]
        }
      ],
      "source": [
        "# ground state energy from VQE\n",
        "\n",
        "result = minimization(ansatz_isa, hamiltonian_isa, ansatz)\n",
        "print(f\"Ground state energy of JW: {result}\")\n"
      ]
    },
    {
      "cell_type": "code",
      "execution_count": 14,
      "metadata": {
        "colab": {
          "base_uri": "https://localhost:8080/"
        },
        "id": "rtDnl4Hd9m6x",
        "outputId": "0008b43e-ad38-4fe9-d477-18d2419a01b5"
      },
      "outputs": [
        {
          "name": "stdout",
          "output_type": "stream",
          "text": [
            "JW: [-20.23591719, -20.158407999999998, -19.906167169999996, -19.967944270000004, -20.069521420000008, -20.130874400000007, -20.22266125, -19.933811939999995, -20.05680142, -20.04848747]\n"
          ]
        }
      ],
      "source": [
        "runs = np.arange(1,11,1)\n",
        "E_runs = []\n",
        "for i in runs:\n",
        "    E_runs.append(minimization(ansatz_isa, hamiltonian_isa, ansatz))\n",
        "print(f\"JW: {E_runs}\")"
      ]
    },
    {
      "cell_type": "code",
      "execution_count": 15,
      "metadata": {
        "colab": {
          "base_uri": "https://localhost:8080/",
          "height": 449
        },
        "id": "p8qTbd0f9lzo",
        "outputId": "3236e6ba-c095-430d-a992-d725df703812"
      },
      "outputs": [
        {
          "data": {
            "image/png": "[encoded data removed]",
            "text/plain": [
              "<Figure size 640x480 with 1 Axes>"
            ]
          },
          "metadata": {},
          "output_type": "display_data"
        }
      ],
      "source": [
        "# True value for 58Ni\n",
        "true_value = -20.99027321 # (MeV)\n",
        "\n",
        "plt.hist(np.array(E_runs),label = 'VQE',color = 'green')\n",
        "plt.xlabel('E (MeV)')\n",
        "plt.ylabel('Counts')\n",
        "plt.axvline(x = true_value, ymin = 0, ymax = 1, linestyle = '--', c = 'k', label = 'True value')\n",
        "plt.xlim(-30,-15)\n",
        "plt.legend()\n",
        "plt.show()"
      ]
    }
  ],
  "metadata": {
    "colab": {
      "provenance": []
    },
    "kernelspec": {
      "display_name": "base",
      "language": "python",
      "name": "python3"
    },
    "language_info": {
      "codemirror_mode": {
        "name": "ipython",
        "version": 3
      },
      "file_extension": ".py",
      "mimetype": "text/x-python",
      "name": "python",
      "nbconvert_exporter": "python",
      "pygments_lexer": "ipython3",
      "version": "3.11.7"
    }
  },
  "nbformat": 4,
  "nbformat_minor": 0
}
